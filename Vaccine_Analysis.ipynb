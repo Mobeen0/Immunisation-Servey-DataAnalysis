{
 "cells": [
  {
   "cell_type": "code",
   "execution_count": 1,
   "id": "e050664b",
   "metadata": {},
   "outputs": [],
   "source": [
    "import pandas as pd"
   ]
  },
  {
   "cell_type": "code",
   "execution_count": 2,
   "id": "96f6fb1f",
   "metadata": {},
   "outputs": [],
   "source": [
    "def proportion_of_education():\n",
    "    df = pd.read_csv('NISPUF17.csv')\n",
    "    ret_dict = dict()\n",
    "    ret_dict['less than high school'] = df[df['EDUC1']==1]['EDUC1'].count() / df['EDUC1'].count()\n",
    "    ret_dict['high school'] = df[df['EDUC1']==2]['EDUC1'].count() /df['EDUC1'].count()\n",
    "    ret_dict['more than high school but not college'] = df[df['EDUC1']==3]['EDUC1'].count()/df['EDUC1'].count()\n",
    "    ret_dict['college'] = df[df['EDUC1']==4]['EDUC1'].count()/ df['EDUC1'].count()\n",
    "    return ret_dict\n",
    "    "
   ]
  },
  {
   "cell_type": "code",
   "execution_count": 3,
   "id": "f18c4ae5",
   "metadata": {},
   "outputs": [
    {
     "data": {
      "text/plain": [
       "{'less than high school': 0.10202002459160373,\n",
       " 'high school': 0.172352011241876,\n",
       " 'more than high school but not college': 0.24588090637625154,\n",
       " 'college': 0.47974705779026877}"
      ]
     },
     "execution_count": 3,
     "metadata": {},
     "output_type": "execute_result"
    }
   ],
   "source": [
    "proportion_of_education()"
   ]
  },
  {
   "cell_type": "code",
   "execution_count": 4,
   "id": "e0819fbb",
   "metadata": {},
   "outputs": [],
   "source": [
    "def average_influenza_doses():\n",
    "    df2 = pd.read_csv('NISPUF17.csv')\n",
    "    ret_val = list()\n",
    "    ret_val.append(df2[(df2['P_NUMFLU'].notna()) & (df2['CBF_01'] ==1)]['P_NUMFLU'].mean())\n",
    "    ret_val.append(df2[(df2['P_NUMFLU'].notna()) & (df2['CBF_01'] ==2)]['P_NUMFLU'].mean())\n",
    "    ret_val = tuple(ret_val)\n",
    "    return ret_val"
   ]
  },
  {
   "cell_type": "code",
   "execution_count": 5,
   "id": "49fc42e8",
   "metadata": {},
   "outputs": [
    {
     "data": {
      "text/plain": [
       "(1.8799187420058687, 1.5963945918878317)"
      ]
     },
     "execution_count": 5,
     "metadata": {},
     "output_type": "execute_result"
    }
   ],
   "source": [
    "average_influenza_doses()"
   ]
  },
  {
   "cell_type": "code",
   "execution_count": 6,
   "id": "5b64459b",
   "metadata": {},
   "outputs": [],
   "source": [
    "def chickenpox_by_sex():\n",
    "    df3 = pd.read_csv('NISPUF17.csv')\n",
    "    ret_dict = dict()\n",
    "    ret_dict['male'] = len(df3[(df3['SEX'] == 1) & (df3['HAD_CPOX'] == 1) & (df3['P_NUMVRC'] >=1)]) / len(df3[(df3['SEX'] == 1) & (df3['HAD_CPOX'] == 2) & (df3['P_NUMVRC'] >=1)])\n",
    "    ret_dict['female'] = len(df3[(df3['SEX'] == 2) & (df3['HAD_CPOX'] == 1) & (df3['P_NUMVRC'] >=1)]) / len(df3[(df3['SEX'] == 2) & (df3['HAD_CPOX'] == 2) & (df3['P_NUMVRC'] >=1)])\n",
    "    return ret_dict"
   ]
  },
  {
   "cell_type": "code",
   "execution_count": 7,
   "id": "733c21be",
   "metadata": {},
   "outputs": [
    {
     "data": {
      "text/plain": [
       "{'male': 0.009675583380762664, 'female': 0.0077918259335489565}"
      ]
     },
     "execution_count": 7,
     "metadata": {},
     "output_type": "execute_result"
    }
   ],
   "source": [
    "chickenpox_by_sex()"
   ]
  },
  {
   "cell_type": "code",
   "execution_count": 8,
   "id": "b1546bcd",
   "metadata": {},
   "outputs": [],
   "source": [
    "def corr_chickenpox():\n",
    "    import scipy.stats as stats\n",
    "    import numpy as np\n",
    "    \n",
    "    df4 = pd.read_csv('NISPUF17.CSV')\n",
    "    df4 = df4[(df4['P_NUMVRC'].notna()) & (df4['HAD_CPOX'] <= 2)]\n",
    "    corr,pval = stats.pearsonr(df4['HAD_CPOX'],df4['P_NUMVRC'])\n",
    "    return corr\n",
    "    "
   ]
  },
  {
   "cell_type": "code",
   "execution_count": 9,
   "id": "0a1755e2",
   "metadata": {},
   "outputs": [
    {
     "data": {
      "text/plain": [
       "0.07044873460147996"
      ]
     },
     "execution_count": 9,
     "metadata": {},
     "output_type": "execute_result"
    }
   ],
   "source": [
    "corr_chickenpox()"
   ]
  },
  {
   "cell_type": "code",
   "execution_count": null,
   "id": "0317f58c",
   "metadata": {},
   "outputs": [],
   "source": []
  }
 ],
 "metadata": {
  "kernelspec": {
   "display_name": "Python 3 (ipykernel)",
   "language": "python",
   "name": "python3"
  },
  "language_info": {
   "codemirror_mode": {
    "name": "ipython",
    "version": 3
   },
   "file_extension": ".py",
   "mimetype": "text/x-python",
   "name": "python",
   "nbconvert_exporter": "python",
   "pygments_lexer": "ipython3",
   "version": "3.10.9"
  }
 },
 "nbformat": 4,
 "nbformat_minor": 5
}
